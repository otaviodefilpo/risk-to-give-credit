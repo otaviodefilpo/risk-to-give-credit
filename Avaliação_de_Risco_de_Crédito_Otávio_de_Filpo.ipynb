{
  "nbformat": 4,
  "nbformat_minor": 0,
  "metadata": {
    "colab": {
      "name": "Avaliação de Risco de Crédito - Otávio de Filpo.ipynb",
      "provenance": [],
      "collapsed_sections": [],
      "include_colab_link": true
    },
    "kernelspec": {
      "name": "python3",
      "display_name": "Python 3"
    }
  },
  "cells": [
    {
      "cell_type": "markdown",
      "metadata": {
        "id": "view-in-github",
        "colab_type": "text"
      },
      "source": [
        "<a href=\"https://colab.research.google.com/github/otaviodefilpo/risk-to-give-credit/blob/main/Avalia%C3%A7%C3%A3o_de_Risco_de_Cr%C3%A9dito_Ot%C3%A1vio_de_Filpo.ipynb\" target=\"_parent\"><img src=\"https://colab.research.google.com/assets/colab-badge.svg\" alt=\"Open In Colab\"/></a>"
      ]
    },
    {
      "cell_type": "markdown",
      "metadata": {
        "id": "ZNvmL_lMsAqU"
      },
      "source": [
        "# Avaliação de Risco de Crédito\n",
        "\n",
        "\n",
        "Uma das área que causa mais problemas para bancos, financiadoras e empresários é a taxa de inadimplência por parte da sua carteira de clientes.\n",
        "\n",
        "Avaliar se uma pessoa irá deixar de cumprir com suas obrigações financeiras é de extrema importância, e pode causar um grande impacto no balanço da Instituição. Cada vez mais, soluções vêm sendo desenvolvidas e aprimoradas visando minimizar o risco de *default*. \n",
        "\n",
        "*Default* é o termo utilizado para indicado o não cumprimento das obrigações e/ou condições de um empréstimo (como financiamentos ou dívidas de cartão de crédito). Normalmente, o principal motivo para o descumprimento das condições de pagamento é incapacidade financeira do cliente.\n",
        "\n",
        "<p align=center>\n",
        "  <img src=\"http://sigmoidal.ai/wp-content/uploads/2019/10/2940191.jpg\" height=\"300px\">\n",
        "</p>\n",
        " \n",
        "Grandes bancos e Fintechs têm apostado cada vez mais em modelos de *Machine Learning* para previnir a inadimplência de alguns clientes.\n",
        "\n",
        "Dentre as principais instituições financeira, o [Nubank](https://nubank.com.br/sobre-nos) é uma das que mais tem se destacado no uso de Inteligência Artificial e times de *Data Science*.\n",
        "\n",
        "O conjunto de dados a ser utilizado neste Projeto de *Data Science* parte de uma competição realizada pela Startup [Nubank](https://nubank.com.br/sobre-nos) a fim de revelar talentos e potenciais contratações pela Fintech.\n",
        "\n",
        "## Contextualização do Problema\n",
        "\n",
        "Neste problema, o objetivo é prever qual a probabilidade de um cliente da Startup Nubank não coumprir com suas obrigações financeiras e deixar de pagar a sua fatura do Cartão de Crédito.\n",
        "\n",
        "<p align=center>\n",
        "<img src=\"http://sigmoidal.ai/wp-content/uploads/2019/10/Nubank_logo.png\" width=\"90px\"></p>\n",
        "  \n",
        "Vale ressaltar que essa avaliação deve ser realizada no momento em que o cliente solicita o cartão (normalmente no primeiro contato com a instituição).\n",
        "\n",
        "\n",
        "\n",
        "> OBJETIVO: Criar um modelo que forneça a probabilidade de um cliente virar inadimplente.\n",
        "\n",
        "\n",
        "Espera-se que um modelo seja capaz de minimizar as perdas financeiras do Nubank, porém minimizando também os falsos positivos.\n",
        "\n",
        "### Hipóteses Iniciais"
      ]
    },
    {
      "cell_type": "markdown",
      "metadata": {
        "id": "5PCK4RxLpqd8"
      },
      "source": [
        "## Importar os Dados\n",
        "\n",
        "Os dados que serão utilizados nesta análise estão disponíveis para download por meio [deste link](http://dl.dropboxusercontent.com/s/xn2a4kzf0zer0xu/acquisition_train.csv?dl=0). Consiste basicamente em um arquivo `csv` contendo 45.000 entradas e 43 colunas.\n",
        "\n",
        "Este arquivo será importando para uma estrutura *DataFrame* utilizando a biblioteca `pandas` a fim de possibilitar sua manipulação e análise."
      ]
    },
    {
      "cell_type": "code",
      "metadata": {
        "id": "n2X30-l1pprz"
      },
      "source": [
        "# importar os pacotes necessários\n",
        "import pandas as pd\n",
        "import matplotlib.pyplot as plt\n",
        "import seaborn as sns\n",
        "import numpy as np"
      ],
      "execution_count": 214,
      "outputs": []
    },
    {
      "cell_type": "code",
      "metadata": {
        "id": "LtQqAgvdp44q",
        "colab": {
          "base_uri": "https://localhost:8080/"
        },
        "outputId": "35149cf5-4f27-4223-9bbf-c6ba680749df"
      },
      "source": [
        "# Importando os dados\n",
        "data = pd.read_csv(\"http://dl.dropboxusercontent.com/s/xn2a4kzf0zer0xu/acquisition_train.csv?dl=0\")\n",
        "\n",
        "# Criando um backup\n",
        "df = data.copy()\n",
        "\n",
        "# Observando o Tamanho do Dataset\n",
        "print(\"O dataset possui {} entradas e {} variáveis\".format(df.shape[0], df.shape[1]))"
      ],
      "execution_count": 215,
      "outputs": [
        {
          "output_type": "stream",
          "text": [
            "O dataset possui 45000 entradas e 43 variáveis\n"
          ],
          "name": "stdout"
        }
      ]
    },
    {
      "cell_type": "markdown",
      "metadata": {
        "id": "cD-ayXtZsLX3"
      },
      "source": [
        "# **Análise exploratória de dados**\n",
        "\n",
        "A primeira coisa ao importar o Dataset será entender melhor como os dados estão dispostos"
      ]
    },
    {
      "cell_type": "code",
      "metadata": {
        "colab": {
          "base_uri": "https://localhost:8080/",
          "height": 417
        },
        "id": "uSiS6ym7so48",
        "outputId": "fedffa17-20b9-4c4f-cc2c-6753e44cbbf4"
      },
      "source": [
        "# Visualizando as 3 primeiras entradas do dataset\n",
        "df.head(3)"
      ],
      "execution_count": 216,
      "outputs": [
        {
          "output_type": "execute_result",
          "data": {
            "text/html": [
              "<div>\n",
              "<style scoped>\n",
              "    .dataframe tbody tr th:only-of-type {\n",
              "        vertical-align: middle;\n",
              "    }\n",
              "\n",
              "    .dataframe tbody tr th {\n",
              "        vertical-align: top;\n",
              "    }\n",
              "\n",
              "    .dataframe thead th {\n",
              "        text-align: right;\n",
              "    }\n",
              "</style>\n",
              "<table border=\"1\" class=\"dataframe\">\n",
              "  <thead>\n",
              "    <tr style=\"text-align: right;\">\n",
              "      <th></th>\n",
              "      <th>ids</th>\n",
              "      <th>target_default</th>\n",
              "      <th>score_1</th>\n",
              "      <th>score_2</th>\n",
              "      <th>score_3</th>\n",
              "      <th>score_4</th>\n",
              "      <th>score_5</th>\n",
              "      <th>score_6</th>\n",
              "      <th>risk_rate</th>\n",
              "      <th>last_amount_borrowed</th>\n",
              "      <th>last_borrowed_in_months</th>\n",
              "      <th>credit_limit</th>\n",
              "      <th>reason</th>\n",
              "      <th>income</th>\n",
              "      <th>facebook_profile</th>\n",
              "      <th>state</th>\n",
              "      <th>zip</th>\n",
              "      <th>channel</th>\n",
              "      <th>job_name</th>\n",
              "      <th>real_state</th>\n",
              "      <th>ok_since</th>\n",
              "      <th>n_bankruptcies</th>\n",
              "      <th>n_defaulted_loans</th>\n",
              "      <th>n_accounts</th>\n",
              "      <th>n_issues</th>\n",
              "      <th>application_time_applied</th>\n",
              "      <th>application_time_in_funnel</th>\n",
              "      <th>email</th>\n",
              "      <th>external_data_provider_credit_checks_last_2_year</th>\n",
              "      <th>external_data_provider_credit_checks_last_month</th>\n",
              "      <th>external_data_provider_credit_checks_last_year</th>\n",
              "      <th>external_data_provider_email_seen_before</th>\n",
              "      <th>external_data_provider_first_name</th>\n",
              "      <th>external_data_provider_fraud_score</th>\n",
              "      <th>lat_lon</th>\n",
              "      <th>marketing_channel</th>\n",
              "      <th>profile_phone_number</th>\n",
              "      <th>reported_income</th>\n",
              "      <th>shipping_state</th>\n",
              "      <th>shipping_zip_code</th>\n",
              "      <th>profile_tags</th>\n",
              "      <th>user_agent</th>\n",
              "      <th>target_fraud</th>\n",
              "    </tr>\n",
              "  </thead>\n",
              "  <tbody>\n",
              "    <tr>\n",
              "      <th>0</th>\n",
              "      <td>343b7e7b-2cf8-e508-b8fd-0a0285af30aa</td>\n",
              "      <td>False</td>\n",
              "      <td>1Rk8w4Ucd5yR3KcqZzLdow==</td>\n",
              "      <td>IOVu8au3ISbo6+zmfnYwMg==</td>\n",
              "      <td>350.0</td>\n",
              "      <td>101.800832</td>\n",
              "      <td>0.259555</td>\n",
              "      <td>108.427273</td>\n",
              "      <td>0.40</td>\n",
              "      <td>25033.92</td>\n",
              "      <td>36.0</td>\n",
              "      <td>0.0</td>\n",
              "      <td>mLVIVxoGY7TUDJ1FyFoSIZi1SFcaBmO01AydRchaEiGYtU...</td>\n",
              "      <td>65014.12</td>\n",
              "      <td>True</td>\n",
              "      <td>sjJbkqJS7cXalHLBFA+EOQ==</td>\n",
              "      <td>Ernn+uVXCMq/6ARrBCcd+A==</td>\n",
              "      <td>NCqL3QBx0pscDnx3ixKwXg==</td>\n",
              "      <td>mLVIVxoGY7TUDJ1FyFoSIZi1SFcaBmO01AydRchaEiGYtU...</td>\n",
              "      <td>N5/CE7lSkAfB04hVFFwllw==</td>\n",
              "      <td>NaN</td>\n",
              "      <td>0.0</td>\n",
              "      <td>0.0</td>\n",
              "      <td>18.0</td>\n",
              "      <td>18.0</td>\n",
              "      <td>07:52:34</td>\n",
              "      <td>444</td>\n",
              "      <td>outlook.com</td>\n",
              "      <td>NaN</td>\n",
              "      <td>2</td>\n",
              "      <td>0.0</td>\n",
              "      <td>51.0</td>\n",
              "      <td>leidelaura</td>\n",
              "      <td>645</td>\n",
              "      <td>(-29.151545708122246, -51.1386461804385)</td>\n",
              "      <td>Invite-email</td>\n",
              "      <td>514-9840782</td>\n",
              "      <td>57849.0</td>\n",
              "      <td>BR-MT</td>\n",
              "      <td>17528</td>\n",
              "      <td>{'tags': ['n19', 'n8']}</td>\n",
              "      <td>Mozilla/5.0 (Linux; Android 6.0.1; SGP771 Buil...</td>\n",
              "      <td>NaN</td>\n",
              "    </tr>\n",
              "    <tr>\n",
              "      <th>1</th>\n",
              "      <td>bc2c7502-bbad-0f8c-39c3-94e881967124</td>\n",
              "      <td>False</td>\n",
              "      <td>DGCQep2AE5QRkNCshIAlFQ==</td>\n",
              "      <td>SaamrHMo23l/3TwXOWgVzw==</td>\n",
              "      <td>370.0</td>\n",
              "      <td>97.062615</td>\n",
              "      <td>0.942655</td>\n",
              "      <td>92.002546</td>\n",
              "      <td>0.24</td>\n",
              "      <td>NaN</td>\n",
              "      <td>NaN</td>\n",
              "      <td>39726.0</td>\n",
              "      <td>mLVIVxoGY7TUDJ1FyFoSIZi1SFcaBmO01AydRchaEiGYtU...</td>\n",
              "      <td>100018.91</td>\n",
              "      <td>False</td>\n",
              "      <td>xsd3ZdsI3356I3xMxZeiqQ==</td>\n",
              "      <td>rlWIXTBO+VOa34+SpGyhlQ==</td>\n",
              "      <td>NCqL3QBx0pscDnx3ixKwXg==</td>\n",
              "      <td>mLVIVxoGY7TUDJ1FyFoSIZi1SFcaBmO01AydRchaEiGYtU...</td>\n",
              "      <td>N5/CE7lSkAfB04hVFFwllw==</td>\n",
              "      <td>50.0</td>\n",
              "      <td>0.0</td>\n",
              "      <td>0.0</td>\n",
              "      <td>14.0</td>\n",
              "      <td>14.0</td>\n",
              "      <td>02:34:29</td>\n",
              "      <td>346</td>\n",
              "      <td>gmail.com</td>\n",
              "      <td>0.0</td>\n",
              "      <td>1</td>\n",
              "      <td>0.0</td>\n",
              "      <td>17.0</td>\n",
              "      <td>diocezio</td>\n",
              "      <td>243</td>\n",
              "      <td>(-19.687710705798963, -47.94151536525154)</td>\n",
              "      <td>Radio-commercial</td>\n",
              "      <td>251-3659293</td>\n",
              "      <td>4902.0</td>\n",
              "      <td>BR-RS</td>\n",
              "      <td>40933</td>\n",
              "      <td>{'tags': ['n6', 'n7', 'nim']}</td>\n",
              "      <td>Mozilla/5.0 (Linux; Android 5.0.2; SAMSUNG SM-...</td>\n",
              "      <td>NaN</td>\n",
              "    </tr>\n",
              "    <tr>\n",
              "      <th>2</th>\n",
              "      <td>669630dd-2e6a-0396-84bf-455e5009c922</td>\n",
              "      <td>True</td>\n",
              "      <td>DGCQep2AE5QRkNCshIAlFQ==</td>\n",
              "      <td>Fv28Bz0YRTVAT5kl1bAV6g==</td>\n",
              "      <td>360.0</td>\n",
              "      <td>100.027073</td>\n",
              "      <td>0.351918</td>\n",
              "      <td>112.892453</td>\n",
              "      <td>0.29</td>\n",
              "      <td>7207.92</td>\n",
              "      <td>36.0</td>\n",
              "      <td>NaN</td>\n",
              "      <td>mLVIVxoGY7TUDJ1FyFoSIZi1SFcaBmO01AydRchaEiGYtU...</td>\n",
              "      <td>65023.65</td>\n",
              "      <td>NaN</td>\n",
              "      <td>Ygq6MsM98oC8yceExr69Ig==</td>\n",
              "      <td>PjTIDfJsK0DKL9fO7vuW2g==</td>\n",
              "      <td>NCqL3QBx0pscDnx3ixKwXg==</td>\n",
              "      <td>mLVIVxoGY7TUDJ1FyFoSIZi1SFcaBmO01AydRchaEiGYtU...</td>\n",
              "      <td>n+xK9CfX0bCn77lClTWviw==</td>\n",
              "      <td>NaN</td>\n",
              "      <td>0.0</td>\n",
              "      <td>0.0</td>\n",
              "      <td>10.0</td>\n",
              "      <td>NaN</td>\n",
              "      <td>00:60:02</td>\n",
              "      <td>6</td>\n",
              "      <td>gmail.com</td>\n",
              "      <td>NaN</td>\n",
              "      <td>2</td>\n",
              "      <td>NaN</td>\n",
              "      <td>9.0</td>\n",
              "      <td>veralucia</td>\n",
              "      <td>65</td>\n",
              "      <td>(-28.748023890412284, -51.867279334353995)</td>\n",
              "      <td>Waiting-list</td>\n",
              "      <td>230-6097993</td>\n",
              "      <td>163679.0</td>\n",
              "      <td>BR-RR</td>\n",
              "      <td>50985</td>\n",
              "      <td>{'tags': ['n0', 'n17', 'nim', 'da']}</td>\n",
              "      <td>Mozilla/5.0 (Linux; Android 6.0.1; SGP771 Buil...</td>\n",
              "      <td>NaN</td>\n",
              "    </tr>\n",
              "  </tbody>\n",
              "</table>\n",
              "</div>"
            ],
            "text/plain": [
              "                                    ids  ... target_fraud\n",
              "0  343b7e7b-2cf8-e508-b8fd-0a0285af30aa  ...          NaN\n",
              "1  bc2c7502-bbad-0f8c-39c3-94e881967124  ...          NaN\n",
              "2  669630dd-2e6a-0396-84bf-455e5009c922  ...          NaN\n",
              "\n",
              "[3 rows x 43 columns]"
            ]
          },
          "metadata": {
            "tags": []
          },
          "execution_count": 216
        }
      ]
    },
    {
      "cell_type": "code",
      "metadata": {
        "colab": {
          "base_uri": "https://localhost:8080/"
        },
        "id": "Ylqdfys5tJsV",
        "outputId": "f3606d8a-f18f-4718-e8ff-dbe23f5bb1d6"
      },
      "source": [
        "# Observando os tipos de dados\n",
        "df.dtypes.sort_values()"
      ],
      "execution_count": 217,
      "outputs": [
        {
          "output_type": "execute_result",
          "data": {
            "text/plain": [
              "external_data_provider_credit_checks_last_month       int64\n",
              "shipping_zip_code                                     int64\n",
              "external_data_provider_fraud_score                    int64\n",
              "application_time_in_funnel                            int64\n",
              "n_bankruptcies                                      float64\n",
              "n_issues                                            float64\n",
              "n_accounts                                          float64\n",
              "n_defaulted_loans                                   float64\n",
              "external_data_provider_credit_checks_last_year      float64\n",
              "ok_since                                            float64\n",
              "external_data_provider_email_seen_before            float64\n",
              "reported_income                                     float64\n",
              "income                                              float64\n",
              "last_borrowed_in_months                             float64\n",
              "last_amount_borrowed                                float64\n",
              "risk_rate                                           float64\n",
              "score_6                                             float64\n",
              "score_5                                             float64\n",
              "score_4                                             float64\n",
              "score_3                                             float64\n",
              "credit_limit                                        float64\n",
              "external_data_provider_credit_checks_last_2_year    float64\n",
              "profile_phone_number                                 object\n",
              "marketing_channel                                    object\n",
              "lat_lon                                              object\n",
              "external_data_provider_first_name                    object\n",
              "shipping_state                                       object\n",
              "profile_tags                                         object\n",
              "ids                                                  object\n",
              "application_time_applied                             object\n",
              "user_agent                                           object\n",
              "real_state                                           object\n",
              "job_name                                             object\n",
              "channel                                              object\n",
              "zip                                                  object\n",
              "state                                                object\n",
              "facebook_profile                                     object\n",
              "reason                                               object\n",
              "score_2                                              object\n",
              "score_1                                              object\n",
              "target_default                                       object\n",
              "email                                                object\n",
              "target_fraud                                         object\n",
              "dtype: object"
            ]
          },
          "metadata": {
            "tags": []
          },
          "execution_count": 217
        }
      ]
    },
    {
      "cell_type": "code",
      "metadata": {
        "colab": {
          "base_uri": "https://localhost:8080/"
        },
        "id": "nNET8xsixAkH",
        "outputId": "79e80e1a-7e45-4b7f-9603-22753ba0a718"
      },
      "source": [
        "# Observando a porcentagem de valores ausentes\n",
        "((df.isnull().sum())/(df.shape[0])).sort_values(ascending = False)"
      ],
      "execution_count": 218,
      "outputs": [
        {
          "output_type": "execute_result",
          "data": {
            "text/plain": [
              "target_fraud                                        0.966178\n",
              "last_amount_borrowed                                0.665689\n",
              "last_borrowed_in_months                             0.665689\n",
              "ok_since                                            0.589889\n",
              "external_data_provider_credit_checks_last_2_year    0.502844\n",
              "external_data_provider_credit_checks_last_year      0.336089\n",
              "credit_limit                                        0.306667\n",
              "n_issues                                            0.256533\n",
              "facebook_profile                                    0.099067\n",
              "marketing_channel                                   0.079511\n",
              "job_name                                            0.074133\n",
              "target_default                                      0.072422\n",
              "external_data_provider_email_seen_before            0.049622\n",
              "lat_lon                                             0.030289\n",
              "user_agent                                          0.016044\n",
              "n_bankruptcies                                      0.015489\n",
              "n_defaulted_loans                                   0.012756\n",
              "reason                                              0.012578\n",
              "income                                              0.012489\n",
              "real_state                                          0.012489\n",
              "state                                               0.012489\n",
              "zip                                                 0.012489\n",
              "channel                                             0.012489\n",
              "score_3                                             0.012489\n",
              "score_2                                             0.012489\n",
              "score_1                                             0.012489\n",
              "n_accounts                                          0.012489\n",
              "risk_rate                                           0.012489\n",
              "shipping_zip_code                                   0.000000\n",
              "score_4                                             0.000000\n",
              "score_5                                             0.000000\n",
              "profile_tags                                        0.000000\n",
              "score_6                                             0.000000\n",
              "application_time_in_funnel                          0.000000\n",
              "shipping_state                                      0.000000\n",
              "reported_income                                     0.000000\n",
              "application_time_applied                            0.000000\n",
              "profile_phone_number                                0.000000\n",
              "external_data_provider_fraud_score                  0.000000\n",
              "external_data_provider_first_name                   0.000000\n",
              "external_data_provider_credit_checks_last_month     0.000000\n",
              "email                                               0.000000\n",
              "ids                                                 0.000000\n",
              "dtype: float64"
            ]
          },
          "metadata": {
            "tags": []
          },
          "execution_count": 218
        }
      ]
    },
    {
      "cell_type": "markdown",
      "metadata": {
        "id": "ArF2WbzLOMOX"
      },
      "source": [
        "O que vemos nessas primeiras visualizações é que o dataset é bem diverso, com grande variedade de variáveis numéricas e categóricas, com muitas tento um número significativo de valores ausentes, o que logo mais nos fará trabalhar um pouco em cima dos dados. A seguir, vamos verificar as informações estatísticas do dataset."
      ]
    },
    {
      "cell_type": "code",
      "metadata": {
        "colab": {
          "base_uri": "https://localhost:8080/",
          "height": 317
        },
        "id": "R-M1tyZHzpmr",
        "outputId": "aa998925-179b-419e-ef62-053470ed9946"
      },
      "source": [
        "# Valores estatísticos com describe\n",
        "df.describe()"
      ],
      "execution_count": 219,
      "outputs": [
        {
          "output_type": "execute_result",
          "data": {
            "text/html": [
              "<div>\n",
              "<style scoped>\n",
              "    .dataframe tbody tr th:only-of-type {\n",
              "        vertical-align: middle;\n",
              "    }\n",
              "\n",
              "    .dataframe tbody tr th {\n",
              "        vertical-align: top;\n",
              "    }\n",
              "\n",
              "    .dataframe thead th {\n",
              "        text-align: right;\n",
              "    }\n",
              "</style>\n",
              "<table border=\"1\" class=\"dataframe\">\n",
              "  <thead>\n",
              "    <tr style=\"text-align: right;\">\n",
              "      <th></th>\n",
              "      <th>score_3</th>\n",
              "      <th>score_4</th>\n",
              "      <th>score_5</th>\n",
              "      <th>score_6</th>\n",
              "      <th>risk_rate</th>\n",
              "      <th>last_amount_borrowed</th>\n",
              "      <th>last_borrowed_in_months</th>\n",
              "      <th>credit_limit</th>\n",
              "      <th>income</th>\n",
              "      <th>ok_since</th>\n",
              "      <th>n_bankruptcies</th>\n",
              "      <th>n_defaulted_loans</th>\n",
              "      <th>n_accounts</th>\n",
              "      <th>n_issues</th>\n",
              "      <th>application_time_in_funnel</th>\n",
              "      <th>external_data_provider_credit_checks_last_2_year</th>\n",
              "      <th>external_data_provider_credit_checks_last_month</th>\n",
              "      <th>external_data_provider_credit_checks_last_year</th>\n",
              "      <th>external_data_provider_email_seen_before</th>\n",
              "      <th>external_data_provider_fraud_score</th>\n",
              "      <th>reported_income</th>\n",
              "      <th>shipping_zip_code</th>\n",
              "    </tr>\n",
              "  </thead>\n",
              "  <tbody>\n",
              "    <tr>\n",
              "      <th>count</th>\n",
              "      <td>44438.000000</td>\n",
              "      <td>45000.000000</td>\n",
              "      <td>45000.000000</td>\n",
              "      <td>45000.000000</td>\n",
              "      <td>44438.000000</td>\n",
              "      <td>15044.000000</td>\n",
              "      <td>15044.000000</td>\n",
              "      <td>31200.000000</td>\n",
              "      <td>4.443800e+04</td>\n",
              "      <td>18455.000000</td>\n",
              "      <td>44303.000000</td>\n",
              "      <td>44426.000000</td>\n",
              "      <td>44438.000000</td>\n",
              "      <td>33456.000000</td>\n",
              "      <td>45000.000000</td>\n",
              "      <td>22372.0</td>\n",
              "      <td>45000.000000</td>\n",
              "      <td>29876.000000</td>\n",
              "      <td>42767.000000</td>\n",
              "      <td>45000.000000</td>\n",
              "      <td>45000.00</td>\n",
              "      <td>45000.000000</td>\n",
              "    </tr>\n",
              "    <tr>\n",
              "      <th>mean</th>\n",
              "      <td>347.983258</td>\n",
              "      <td>100.006797</td>\n",
              "      <td>0.500037</td>\n",
              "      <td>99.925228</td>\n",
              "      <td>0.296717</td>\n",
              "      <td>13782.341991</td>\n",
              "      <td>41.763893</td>\n",
              "      <td>34381.951154</td>\n",
              "      <td>7.160739e+04</td>\n",
              "      <td>35.069737</td>\n",
              "      <td>0.076270</td>\n",
              "      <td>0.004569</td>\n",
              "      <td>10.696701</td>\n",
              "      <td>11.068119</td>\n",
              "      <td>247.537000</td>\n",
              "      <td>0.0</td>\n",
              "      <td>1.501067</td>\n",
              "      <td>0.503381</td>\n",
              "      <td>12.534781</td>\n",
              "      <td>500.399800</td>\n",
              "      <td>inf</td>\n",
              "      <td>33923.514844</td>\n",
              "    </tr>\n",
              "    <tr>\n",
              "      <th>std</th>\n",
              "      <td>110.429165</td>\n",
              "      <td>3.178080</td>\n",
              "      <td>0.288326</td>\n",
              "      <td>10.016549</td>\n",
              "      <td>0.101933</td>\n",
              "      <td>8077.571933</td>\n",
              "      <td>10.252705</td>\n",
              "      <td>36586.982218</td>\n",
              "      <td>5.185897e+04</td>\n",
              "      <td>21.663194</td>\n",
              "      <td>0.274052</td>\n",
              "      <td>0.079400</td>\n",
              "      <td>4.592463</td>\n",
              "      <td>4.595501</td>\n",
              "      <td>146.118398</td>\n",
              "      <td>0.0</td>\n",
              "      <td>1.114941</td>\n",
              "      <td>0.499997</td>\n",
              "      <td>126.530487</td>\n",
              "      <td>287.968873</td>\n",
              "      <td>NaN</td>\n",
              "      <td>12692.406382</td>\n",
              "    </tr>\n",
              "    <tr>\n",
              "      <th>min</th>\n",
              "      <td>0.000000</td>\n",
              "      <td>86.191572</td>\n",
              "      <td>0.000035</td>\n",
              "      <td>60.663039</td>\n",
              "      <td>0.000000</td>\n",
              "      <td>1005.180000</td>\n",
              "      <td>36.000000</td>\n",
              "      <td>0.000000</td>\n",
              "      <td>4.821180e+03</td>\n",
              "      <td>0.000000</td>\n",
              "      <td>0.000000</td>\n",
              "      <td>0.000000</td>\n",
              "      <td>0.000000</td>\n",
              "      <td>0.000000</td>\n",
              "      <td>0.000000</td>\n",
              "      <td>0.0</td>\n",
              "      <td>0.000000</td>\n",
              "      <td>0.000000</td>\n",
              "      <td>-999.000000</td>\n",
              "      <td>0.000000</td>\n",
              "      <td>403.00</td>\n",
              "      <td>12001.000000</td>\n",
              "    </tr>\n",
              "    <tr>\n",
              "      <th>25%</th>\n",
              "      <td>270.000000</td>\n",
              "      <td>97.867036</td>\n",
              "      <td>0.252150</td>\n",
              "      <td>93.198353</td>\n",
              "      <td>0.220000</td>\n",
              "      <td>7519.502500</td>\n",
              "      <td>36.000000</td>\n",
              "      <td>10000.000000</td>\n",
              "      <td>4.501078e+04</td>\n",
              "      <td>17.000000</td>\n",
              "      <td>0.000000</td>\n",
              "      <td>0.000000</td>\n",
              "      <td>7.000000</td>\n",
              "      <td>8.000000</td>\n",
              "      <td>120.000000</td>\n",
              "      <td>0.0</td>\n",
              "      <td>1.000000</td>\n",
              "      <td>0.000000</td>\n",
              "      <td>11.000000</td>\n",
              "      <td>252.000000</td>\n",
              "      <td>50948.25</td>\n",
              "      <td>22937.000000</td>\n",
              "    </tr>\n",
              "    <tr>\n",
              "      <th>50%</th>\n",
              "      <td>340.000000</td>\n",
              "      <td>100.018900</td>\n",
              "      <td>0.500753</td>\n",
              "      <td>99.974796</td>\n",
              "      <td>0.290000</td>\n",
              "      <td>12023.465000</td>\n",
              "      <td>36.000000</td>\n",
              "      <td>25647.000000</td>\n",
              "      <td>6.126676e+04</td>\n",
              "      <td>32.000000</td>\n",
              "      <td>0.000000</td>\n",
              "      <td>0.000000</td>\n",
              "      <td>10.000000</td>\n",
              "      <td>10.000000</td>\n",
              "      <td>248.000000</td>\n",
              "      <td>0.0</td>\n",
              "      <td>2.000000</td>\n",
              "      <td>1.000000</td>\n",
              "      <td>27.000000</td>\n",
              "      <td>503.000000</td>\n",
              "      <td>101779.00</td>\n",
              "      <td>33896.000000</td>\n",
              "    </tr>\n",
              "    <tr>\n",
              "      <th>75%</th>\n",
              "      <td>420.000000</td>\n",
              "      <td>102.141797</td>\n",
              "      <td>0.748816</td>\n",
              "      <td>106.640275</td>\n",
              "      <td>0.360000</td>\n",
              "      <td>19220.270000</td>\n",
              "      <td>36.000000</td>\n",
              "      <td>47086.750000</td>\n",
              "      <td>8.601923e+04</td>\n",
              "      <td>50.000000</td>\n",
              "      <td>0.000000</td>\n",
              "      <td>0.000000</td>\n",
              "      <td>13.000000</td>\n",
              "      <td>14.000000</td>\n",
              "      <td>375.000000</td>\n",
              "      <td>0.0</td>\n",
              "      <td>2.000000</td>\n",
              "      <td>1.000000</td>\n",
              "      <td>43.000000</td>\n",
              "      <td>747.000000</td>\n",
              "      <td>151337.25</td>\n",
              "      <td>44910.000000</td>\n",
              "    </tr>\n",
              "    <tr>\n",
              "      <th>max</th>\n",
              "      <td>990.000000</td>\n",
              "      <td>113.978234</td>\n",
              "      <td>0.999973</td>\n",
              "      <td>142.192400</td>\n",
              "      <td>0.900000</td>\n",
              "      <td>35059.600000</td>\n",
              "      <td>60.000000</td>\n",
              "      <td>448269.000000</td>\n",
              "      <td>5.000028e+06</td>\n",
              "      <td>141.000000</td>\n",
              "      <td>5.000000</td>\n",
              "      <td>5.000000</td>\n",
              "      <td>49.000000</td>\n",
              "      <td>49.000000</td>\n",
              "      <td>500.000000</td>\n",
              "      <td>0.0</td>\n",
              "      <td>3.000000</td>\n",
              "      <td>1.000000</td>\n",
              "      <td>59.000000</td>\n",
              "      <td>1000.000000</td>\n",
              "      <td>inf</td>\n",
              "      <td>56000.000000</td>\n",
              "    </tr>\n",
              "  </tbody>\n",
              "</table>\n",
              "</div>"
            ],
            "text/plain": [
              "            score_3       score_4  ...  reported_income  shipping_zip_code\n",
              "count  44438.000000  45000.000000  ...         45000.00       45000.000000\n",
              "mean     347.983258    100.006797  ...              inf       33923.514844\n",
              "std      110.429165      3.178080  ...              NaN       12692.406382\n",
              "min        0.000000     86.191572  ...           403.00       12001.000000\n",
              "25%      270.000000     97.867036  ...         50948.25       22937.000000\n",
              "50%      340.000000    100.018900  ...        101779.00       33896.000000\n",
              "75%      420.000000    102.141797  ...        151337.25       44910.000000\n",
              "max      990.000000    113.978234  ...              inf       56000.000000\n",
              "\n",
              "[8 rows x 22 columns]"
            ]
          },
          "metadata": {
            "tags": []
          },
          "execution_count": 219
        }
      ]
    },
    {
      "cell_type": "markdown",
      "metadata": {
        "id": "XZojoZzKJSk3"
      },
      "source": [
        "Para finalizar, vamos visualizar como está o balanceamento da variável alvo."
      ]
    },
    {
      "cell_type": "code",
      "metadata": {
        "colab": {
          "base_uri": "https://localhost:8080/",
          "height": 452
        },
        "id": "MJ7BNFsBJcY9",
        "outputId": "33225d71-2a39-4323-f72d-2a06e3957d9b"
      },
      "source": [
        "#Verificando o balanceamento\n",
        "print(df.target_default.value_counts())\n",
        "print(\"\\nOs valores da classe True representam {:.1f}% da variável\\n\".format(((df[df['target_default']==True].shape[0] / df.shape[0])*100)))\n",
        "\n",
        "#Plotando o gráfico do balanceamento\n",
        "fig, ax = plt.subplots(figsize=(6,4))\n",
        "sns.countplot('target_default', data=df, ax=ax)\n",
        "ax.set_title('Distribuição das classes')\n",
        "plt.plot();"
      ],
      "execution_count": 220,
      "outputs": [
        {
          "output_type": "stream",
          "text": [
            "False    35080\n",
            "True      6661\n",
            "Name: target_default, dtype: int64\n",
            "\n",
            "Os valores da classe True representam 14.8% da variável\n",
            "\n"
          ],
          "name": "stdout"
        },
        {
          "output_type": "stream",
          "text": [
            "/usr/local/lib/python3.7/dist-packages/seaborn/_decorators.py:43: FutureWarning: Pass the following variable as a keyword arg: x. From version 0.12, the only valid positional argument will be `data`, and passing other arguments without an explicit keyword will result in an error or misinterpretation.\n",
            "  FutureWarning\n"
          ],
          "name": "stderr"
        },
        {
          "output_type": "display_data",
          "data": {
            "image/png": "[encoded data removed]",
            "text/plain": [
              "<Figure size 432x288 with 1 Axes>"
            ]
          },
          "metadata": {
            "tags": [],
            "needs_background": "light"
          }
        }
      ]
    },
    {
      "cell_type": "markdown",
      "metadata": {
        "id": "HFVmYacoOrU0"
      },
      "source": [
        "### Após a análise exploratória, conseguimos fazer observações importantes:\n",
        "\n",
        "* A variável `external_data_provider_credit_checks_last_2_year` possui todas as informações estatísticas iguais à 0, logo futuramente será removida.\n",
        "* A variável `ids` é única, logo pouco relevante para a construção do modelo, então será removida futuramente.\n",
        "* A nossa variável alvo é `target_default`, que está desbalanceada.\n",
        "* A variável `target_fraud` possui muitos valores NaN, então deve ser tratada com cuidado\n",
        "* As variáveis `score_4`, `score_5`, `score_6` e outras possuem muitos valores únicos, logo poderão ser removidas futuramente.\n",
        "* A variável `external_data_provider_email_seen_before` possui valor mínimo '-999', que poderá ser subistuído por NaN, para ser utilizado no projeto\n",
        "* A variável `reported_income` tem um valor 'inf', que pode ser subistuído por Nan, para ser utilizado no projeto.\n",
        "* A variável `channel` tem um valor único, é apenas uma identificadora dos dados, logo poderá ser removida.\n",
        "\n",
        "\n",
        "\n"
      ]
    },
    {
      "cell_type": "markdown",
      "metadata": {
        "id": "4CmgGQPfNjri"
      },
      "source": [
        "#**Limpeza dos dados**\n",
        "Uma vez que já detalhamos algumas coisas a corrigir no dataset, vamos remover as variáveis inconsistentes e tratar as que podemos.\n",
        "\n"
      ]
    },
    {
      "cell_type": "code",
      "metadata": {
        "id": "y4dMUi27Nu8g",
        "colab": {
          "base_uri": "https://localhost:8080/",
          "height": 417
        },
        "outputId": "adcccae3-b0d5-41d5-e73c-85c6983b89ac"
      },
      "source": [
        "#Criando Backup para prosseguir\n",
        "dfclean = df.copy()\n",
        "dfclean.head(3)"
      ],
      "execution_count": 221,
      "outputs": [
        {
          "output_type": "execute_result",
          "data": {
            "text/html": [
              "<div>\n",
              "<style scoped>\n",
              "    .dataframe tbody tr th:only-of-type {\n",
              "        vertical-align: middle;\n",
              "    }\n",
              "\n",
              "    .dataframe tbody tr th {\n",
              "        vertical-align: top;\n",
              "    }\n",
              "\n",
              "    .dataframe thead th {\n",
              "        text-align: right;\n",
              "    }\n",
              "</style>\n",
              "<table border=\"1\" class=\"dataframe\">\n",
              "  <thead>\n",
              "    <tr style=\"text-align: right;\">\n",
              "      <th></th>\n",
              "      <th>ids</th>\n",
              "      <th>target_default</th>\n",
              "      <th>score_1</th>\n",
              "      <th>score_2</th>\n",
              "      <th>score_3</th>\n",
              "      <th>score_4</th>\n",
              "      <th>score_5</th>\n",
              "      <th>score_6</th>\n",
              "      <th>risk_rate</th>\n",
              "      <th>last_amount_borrowed</th>\n",
              "      <th>last_borrowed_in_months</th>\n",
              "      <th>credit_limit</th>\n",
              "      <th>reason</th>\n",
              "      <th>income</th>\n",
              "      <th>facebook_profile</th>\n",
              "      <th>state</th>\n",
              "      <th>zip</th>\n",
              "      <th>channel</th>\n",
              "      <th>job_name</th>\n",
              "      <th>real_state</th>\n",
              "      <th>ok_since</th>\n",
              "      <th>n_bankruptcies</th>\n",
              "      <th>n_defaulted_loans</th>\n",
              "      <th>n_accounts</th>\n",
              "      <th>n_issues</th>\n",
              "      <th>application_time_applied</th>\n",
              "      <th>application_time_in_funnel</th>\n",
              "      <th>email</th>\n",
              "      <th>external_data_provider_credit_checks_last_2_year</th>\n",
              "      <th>external_data_provider_credit_checks_last_month</th>\n",
              "      <th>external_data_provider_credit_checks_last_year</th>\n",
              "      <th>external_data_provider_email_seen_before</th>\n",
              "      <th>external_data_provider_first_name</th>\n",
              "      <th>external_data_provider_fraud_score</th>\n",
              "      <th>lat_lon</th>\n",
              "      <th>marketing_channel</th>\n",
              "      <th>profile_phone_number</th>\n",
              "      <th>reported_income</th>\n",
              "      <th>shipping_state</th>\n",
              "      <th>shipping_zip_code</th>\n",
              "      <th>profile_tags</th>\n",
              "      <th>user_agent</th>\n",
              "      <th>target_fraud</th>\n",
              "    </tr>\n",
              "  </thead>\n",
              "  <tbody>\n",
              "    <tr>\n",
              "      <th>0</th>\n",
              "      <td>343b7e7b-2cf8-e508-b8fd-0a0285af30aa</td>\n",
              "      <td>False</td>\n",
              "      <td>1Rk8w4Ucd5yR3KcqZzLdow==</td>\n",
              "      <td>IOVu8au3ISbo6+zmfnYwMg==</td>\n",
              "      <td>350.0</td>\n",
              "      <td>101.800832</td>\n",
              "      <td>0.259555</td>\n",
              "      <td>108.427273</td>\n",
              "      <td>0.40</td>\n",
              "      <td>25033.92</td>\n",
              "      <td>36.0</td>\n",
              "      <td>0.0</td>\n",
              "      <td>mLVIVxoGY7TUDJ1FyFoSIZi1SFcaBmO01AydRchaEiGYtU...</td>\n",
              "      <td>65014.12</td>\n",
              "      <td>True</td>\n",
              "      <td>sjJbkqJS7cXalHLBFA+EOQ==</td>\n",
              "      <td>Ernn+uVXCMq/6ARrBCcd+A==</td>\n",
              "      <td>NCqL3QBx0pscDnx3ixKwXg==</td>\n",
              "      <td>mLVIVxoGY7TUDJ1FyFoSIZi1SFcaBmO01AydRchaEiGYtU...</td>\n",
              "      <td>N5/CE7lSkAfB04hVFFwllw==</td>\n",
              "      <td>NaN</td>\n",
              "      <td>0.0</td>\n",
              "      <td>0.0</td>\n",
              "      <td>18.0</td>\n",
              "      <td>18.0</td>\n",
              "      <td>07:52:34</td>\n",
              "      <td>444</td>\n",
              "      <td>outlook.com</td>\n",
              "      <td>NaN</td>\n",
              "      <td>2</td>\n",
              "      <td>0.0</td>\n",
              "      <td>51.0</td>\n",
              "      <td>leidelaura</td>\n",
              "      <td>645</td>\n",
              "      <td>(-29.151545708122246, -51.1386461804385)</td>\n",
              "      <td>Invite-email</td>\n",
              "      <td>514-9840782</td>\n",
              "      <td>57849.0</td>\n",
              "      <td>BR-MT</td>\n",
              "      <td>17528</td>\n",
              "      <td>{'tags': ['n19', 'n8']}</td>\n",
              "      <td>Mozilla/5.0 (Linux; Android 6.0.1; SGP771 Buil...</td>\n",
              "      <td>NaN</td>\n",
              "    </tr>\n",
              "    <tr>\n",
              "      <th>1</th>\n",
              "      <td>bc2c7502-bbad-0f8c-39c3-94e881967124</td>\n",
              "      <td>False</td>\n",
              "      <td>DGCQep2AE5QRkNCshIAlFQ==</td>\n",
              "      <td>SaamrHMo23l/3TwXOWgVzw==</td>\n",
              "      <td>370.0</td>\n",
              "      <td>97.062615</td>\n",
              "      <td>0.942655</td>\n",
              "      <td>92.002546</td>\n",
              "      <td>0.24</td>\n",
              "      <td>NaN</td>\n",
              "      <td>NaN</td>\n",
              "      <td>39726.0</td>\n",
              "      <td>mLVIVxoGY7TUDJ1FyFoSIZi1SFcaBmO01AydRchaEiGYtU...</td>\n",
              "      <td>100018.91</td>\n",
              "      <td>False</td>\n",
              "      <td>xsd3ZdsI3356I3xMxZeiqQ==</td>\n",
              "      <td>rlWIXTBO+VOa34+SpGyhlQ==</td>\n",
              "      <td>NCqL3QBx0pscDnx3ixKwXg==</td>\n",
              "      <td>mLVIVxoGY7TUDJ1FyFoSIZi1SFcaBmO01AydRchaEiGYtU...</td>\n",
              "      <td>N5/CE7lSkAfB04hVFFwllw==</td>\n",
              "      <td>50.0</td>\n",
              "      <td>0.0</td>\n",
              "      <td>0.0</td>\n",
              "      <td>14.0</td>\n",
              "      <td>14.0</td>\n",
              "      <td>02:34:29</td>\n",
              "      <td>346</td>\n",
              "      <td>gmail.com</td>\n",
              "      <td>0.0</td>\n",
              "      <td>1</td>\n",
              "      <td>0.0</td>\n",
              "      <td>17.0</td>\n",
              "      <td>diocezio</td>\n",
              "      <td>243</td>\n",
              "      <td>(-19.687710705798963, -47.94151536525154)</td>\n",
              "      <td>Radio-commercial</td>\n",
              "      <td>251-3659293</td>\n",
              "      <td>4902.0</td>\n",
              "      <td>BR-RS</td>\n",
              "      <td>40933</td>\n",
              "      <td>{'tags': ['n6', 'n7', 'nim']}</td>\n",
              "      <td>Mozilla/5.0 (Linux; Android 5.0.2; SAMSUNG SM-...</td>\n",
              "      <td>NaN</td>\n",
              "    </tr>\n",
              "    <tr>\n",
              "      <th>2</th>\n",
              "      <td>669630dd-2e6a-0396-84bf-455e5009c922</td>\n",
              "      <td>True</td>\n",
              "      <td>DGCQep2AE5QRkNCshIAlFQ==</td>\n",
              "      <td>Fv28Bz0YRTVAT5kl1bAV6g==</td>\n",
              "      <td>360.0</td>\n",
              "      <td>100.027073</td>\n",
              "      <td>0.351918</td>\n",
              "      <td>112.892453</td>\n",
              "      <td>0.29</td>\n",
              "      <td>7207.92</td>\n",
              "      <td>36.0</td>\n",
              "      <td>NaN</td>\n",
              "      <td>mLVIVxoGY7TUDJ1FyFoSIZi1SFcaBmO01AydRchaEiGYtU...</td>\n",
              "      <td>65023.65</td>\n",
              "      <td>NaN</td>\n",
              "      <td>Ygq6MsM98oC8yceExr69Ig==</td>\n",
              "      <td>PjTIDfJsK0DKL9fO7vuW2g==</td>\n",
              "      <td>NCqL3QBx0pscDnx3ixKwXg==</td>\n",
              "      <td>mLVIVxoGY7TUDJ1FyFoSIZi1SFcaBmO01AydRchaEiGYtU...</td>\n",
              "      <td>n+xK9CfX0bCn77lClTWviw==</td>\n",
              "      <td>NaN</td>\n",
              "      <td>0.0</td>\n",
              "      <td>0.0</td>\n",
              "      <td>10.0</td>\n",
              "      <td>NaN</td>\n",
              "      <td>00:60:02</td>\n",
              "      <td>6</td>\n",
              "      <td>gmail.com</td>\n",
              "      <td>NaN</td>\n",
              "      <td>2</td>\n",
              "      <td>NaN</td>\n",
              "      <td>9.0</td>\n",
              "      <td>veralucia</td>\n",
              "      <td>65</td>\n",
              "      <td>(-28.748023890412284, -51.867279334353995)</td>\n",
              "      <td>Waiting-list</td>\n",
              "      <td>230-6097993</td>\n",
              "      <td>163679.0</td>\n",
              "      <td>BR-RR</td>\n",
              "      <td>50985</td>\n",
              "      <td>{'tags': ['n0', 'n17', 'nim', 'da']}</td>\n",
              "      <td>Mozilla/5.0 (Linux; Android 6.0.1; SGP771 Buil...</td>\n",
              "      <td>NaN</td>\n",
              "    </tr>\n",
              "  </tbody>\n",
              "</table>\n",
              "</div>"
            ],
            "text/plain": [
              "                                    ids  ... target_fraud\n",
              "0  343b7e7b-2cf8-e508-b8fd-0a0285af30aa  ...          NaN\n",
              "1  bc2c7502-bbad-0f8c-39c3-94e881967124  ...          NaN\n",
              "2  669630dd-2e6a-0396-84bf-455e5009c922  ...          NaN\n",
              "\n",
              "[3 rows x 43 columns]"
            ]
          },
          "metadata": {
            "tags": []
          },
          "execution_count": 221
        }
      ]
    },
    {
      "cell_type": "markdown",
      "metadata": {
        "id": "a5oCX8cWPETF"
      },
      "source": [
        "Agora vamos apenas remover as variáveis que não podemos trabalhar."
      ]
    },
    {
      "cell_type": "code",
      "metadata": {
        "id": "4CCTDTDqvm7N"
      },
      "source": [
        "# Dropando variáveis que não usaremos\n",
        "dfclean = dfclean.drop(columns=['ids','target_fraud','external_data_provider_credit_checks_last_2_year','channel','reason','zip','job_name',\n",
        "                                'external_data_provider_first_name','shipping_zip_code','user_agent','profile_tags','email','marketing_channel',\n",
        "                                'profile_phone_number','facebook_profile','lat_lon','application_time_applied','shipping_state'])"
      ],
      "execution_count": 222,
      "outputs": []
    },
    {
      "cell_type": "markdown",
      "metadata": {
        "id": "uhlctVpnPNYV"
      },
      "source": [
        "Agora vamos tratar as variáveis que possuem algum valor diferente do esperado."
      ]
    },
    {
      "cell_type": "code",
      "metadata": {
        "id": "89WpZ-LF2a68"
      },
      "source": [
        "# substituir inf por nan em reported_income \n",
        "dfclean['reported_income'] = dfclean['reported_income'].replace(np.inf,np.nan)\n",
        "\n",
        "# Subistituir -999 em external_data_provider_email_seen_before por NaN\n",
        "dfclean.loc[dfclean['external_data_provider_email_seen_before'] == -999.0,\n",
        "            'external_data_provider_email_seen_before'] = np.nan\n",
        "\n",
        "#eliminar os NaNs de target_default\n",
        "dfclean.dropna(subset=['target_default'], inplace=True)"
      ],
      "execution_count": 223,
      "outputs": []
    },
    {
      "cell_type": "markdown",
      "metadata": {
        "id": "LeAyG5udPrLy"
      },
      "source": [
        "Antes de prosseguir, vamos visualizar novamente a situação do nosso Dataset."
      ]
    },
    {
      "cell_type": "code",
      "metadata": {
        "colab": {
          "base_uri": "https://localhost:8080/"
        },
        "id": "rgCugW2x1HHq",
        "outputId": "79adb6b6-f827-4a32-bdcf-d95a91d65839"
      },
      "source": [
        "# Tamanho do Dataset\n",
        "print(\"O Dataset possui {} linhas e {} colunas\".format(dfclean.shape[0], dfclean.shape[1]))"
      ],
      "execution_count": 224,
      "outputs": [
        {
          "output_type": "stream",
          "text": [
            "O Dataset possui 41741 linhas e 25 colunas\n"
          ],
          "name": "stdout"
        }
      ]
    },
    {
      "cell_type": "code",
      "metadata": {
        "colab": {
          "base_uri": "https://localhost:8080/",
          "height": 162
        },
        "id": "HYrBJfydw2d9",
        "outputId": "aceb3373-b482-44e5-843c-4ca3cabd84c2"
      },
      "source": [
        "# Visualizando as primeiras linhas do novo dataset\n",
        "dfclean.head(3)"
      ],
      "execution_count": 225,
      "outputs": [
        {
          "output_type": "execute_result",
          "data": {
            "text/html": [
              "<div>\n",
              "<style scoped>\n",
              "    .dataframe tbody tr th:only-of-type {\n",
              "        vertical-align: middle;\n",
              "    }\n",
              "\n",
              "    .dataframe tbody tr th {\n",
              "        vertical-align: top;\n",
              "    }\n",
              "\n",
              "    .dataframe thead th {\n",
              "        text-align: right;\n",
              "    }\n",
              "</style>\n",
              "<table border=\"1\" class=\"dataframe\">\n",
              "  <thead>\n",
              "    <tr style=\"text-align: right;\">\n",
              "      <th></th>\n",
              "      <th>target_default</th>\n",
              "      <th>score_1</th>\n",
              "      <th>score_2</th>\n",
              "      <th>score_3</th>\n",
              "      <th>score_4</th>\n",
              "      <th>score_5</th>\n",
              "      <th>score_6</th>\n",
              "      <th>risk_rate</th>\n",
              "      <th>last_amount_borrowed</th>\n",
              "      <th>last_borrowed_in_months</th>\n",
              "      <th>credit_limit</th>\n",
              "      <th>income</th>\n",
              "      <th>state</th>\n",
              "      <th>real_state</th>\n",
              "      <th>ok_since</th>\n",
              "      <th>n_bankruptcies</th>\n",
              "      <th>n_defaulted_loans</th>\n",
              "      <th>n_accounts</th>\n",
              "      <th>n_issues</th>\n",
              "      <th>application_time_in_funnel</th>\n",
              "      <th>external_data_provider_credit_checks_last_month</th>\n",
              "      <th>external_data_provider_credit_checks_last_year</th>\n",
              "      <th>external_data_provider_email_seen_before</th>\n",
              "      <th>external_data_provider_fraud_score</th>\n",
              "      <th>reported_income</th>\n",
              "    </tr>\n",
              "  </thead>\n",
              "  <tbody>\n",
              "    <tr>\n",
              "      <th>0</th>\n",
              "      <td>False</td>\n",
              "      <td>1Rk8w4Ucd5yR3KcqZzLdow==</td>\n",
              "      <td>IOVu8au3ISbo6+zmfnYwMg==</td>\n",
              "      <td>350.0</td>\n",
              "      <td>101.800832</td>\n",
              "      <td>0.259555</td>\n",
              "      <td>108.427273</td>\n",
              "      <td>0.40</td>\n",
              "      <td>25033.92</td>\n",
              "      <td>36.0</td>\n",
              "      <td>0.0</td>\n",
              "      <td>65014.12</td>\n",
              "      <td>sjJbkqJS7cXalHLBFA+EOQ==</td>\n",
              "      <td>N5/CE7lSkAfB04hVFFwllw==</td>\n",
              "      <td>NaN</td>\n",
              "      <td>0.0</td>\n",
              "      <td>0.0</td>\n",
              "      <td>18.0</td>\n",
              "      <td>18.0</td>\n",
              "      <td>444</td>\n",
              "      <td>2</td>\n",
              "      <td>0.0</td>\n",
              "      <td>51.0</td>\n",
              "      <td>645</td>\n",
              "      <td>57849.0</td>\n",
              "    </tr>\n",
              "    <tr>\n",
              "      <th>1</th>\n",
              "      <td>False</td>\n",
              "      <td>DGCQep2AE5QRkNCshIAlFQ==</td>\n",
              "      <td>SaamrHMo23l/3TwXOWgVzw==</td>\n",
              "      <td>370.0</td>\n",
              "      <td>97.062615</td>\n",
              "      <td>0.942655</td>\n",
              "      <td>92.002546</td>\n",
              "      <td>0.24</td>\n",
              "      <td>NaN</td>\n",
              "      <td>NaN</td>\n",
              "      <td>39726.0</td>\n",
              "      <td>100018.91</td>\n",
              "      <td>xsd3ZdsI3356I3xMxZeiqQ==</td>\n",
              "      <td>N5/CE7lSkAfB04hVFFwllw==</td>\n",
              "      <td>50.0</td>\n",
              "      <td>0.0</td>\n",
              "      <td>0.0</td>\n",
              "      <td>14.0</td>\n",
              "      <td>14.0</td>\n",
              "      <td>346</td>\n",
              "      <td>1</td>\n",
              "      <td>0.0</td>\n",
              "      <td>17.0</td>\n",
              "      <td>243</td>\n",
              "      <td>4902.0</td>\n",
              "    </tr>\n",
              "    <tr>\n",
              "      <th>2</th>\n",
              "      <td>True</td>\n",
              "      <td>DGCQep2AE5QRkNCshIAlFQ==</td>\n",
              "      <td>Fv28Bz0YRTVAT5kl1bAV6g==</td>\n",
              "      <td>360.0</td>\n",
              "      <td>100.027073</td>\n",
              "      <td>0.351918</td>\n",
              "      <td>112.892453</td>\n",
              "      <td>0.29</td>\n",
              "      <td>7207.92</td>\n",
              "      <td>36.0</td>\n",
              "      <td>NaN</td>\n",
              "      <td>65023.65</td>\n",
              "      <td>Ygq6MsM98oC8yceExr69Ig==</td>\n",
              "      <td>n+xK9CfX0bCn77lClTWviw==</td>\n",
              "      <td>NaN</td>\n",
              "      <td>0.0</td>\n",
              "      <td>0.0</td>\n",
              "      <td>10.0</td>\n",
              "      <td>NaN</td>\n",
              "      <td>6</td>\n",
              "      <td>2</td>\n",
              "      <td>NaN</td>\n",
              "      <td>9.0</td>\n",
              "      <td>65</td>\n",
              "      <td>163679.0</td>\n",
              "    </tr>\n",
              "  </tbody>\n",
              "</table>\n",
              "</div>"
            ],
            "text/plain": [
              "  target_default  ... reported_income\n",
              "0          False  ...         57849.0\n",
              "1          False  ...          4902.0\n",
              "2           True  ...        163679.0\n",
              "\n",
              "[3 rows x 25 columns]"
            ]
          },
          "metadata": {
            "tags": []
          },
          "execution_count": 225
        }
      ]
    },
    {
      "cell_type": "markdown",
      "metadata": {
        "id": "584OU2meP3ql"
      },
      "source": [
        "Para prosseguir, agora veremos como cada variável que temos está em quantidade de valores ausentes, após as nossas mudanças."
      ]
    },
    {
      "cell_type": "code",
      "metadata": {
        "colab": {
          "base_uri": "https://localhost:8080/"
        },
        "id": "QCeFKoDJxrlS",
        "outputId": "e8bdfe9c-b77f-4770-fd7f-a6baa402a83b"
      },
      "source": [
        "# Observando a porcentagem de valores ausentes\n",
        "((dfclean.isnull().sum())/(dfclean.shape[0])).sort_values(ascending = False)"
      ],
      "execution_count": 226,
      "outputs": [
        {
          "output_type": "execute_result",
          "data": {
            "text/plain": [
              "last_amount_borrowed                               0.661412\n",
              "last_borrowed_in_months                            0.661412\n",
              "ok_since                                           0.586114\n",
              "external_data_provider_credit_checks_last_year     0.335905\n",
              "credit_limit                                       0.314056\n",
              "n_issues                                           0.261685\n",
              "external_data_provider_email_seen_before           0.064110\n",
              "n_bankruptcies                                     0.003234\n",
              "reported_income                                    0.001581\n",
              "n_defaulted_loans                                  0.000287\n",
              "risk_rate                                          0.000000\n",
              "score_3                                            0.000000\n",
              "score_4                                            0.000000\n",
              "score_5                                            0.000000\n",
              "score_6                                            0.000000\n",
              "score_2                                            0.000000\n",
              "score_1                                            0.000000\n",
              "state                                              0.000000\n",
              "income                                             0.000000\n",
              "external_data_provider_fraud_score                 0.000000\n",
              "real_state                                         0.000000\n",
              "n_accounts                                         0.000000\n",
              "application_time_in_funnel                         0.000000\n",
              "external_data_provider_credit_checks_last_month    0.000000\n",
              "target_default                                     0.000000\n",
              "dtype: float64"
            ]
          },
          "metadata": {
            "tags": []
          },
          "execution_count": 226
        }
      ]
    },
    {
      "cell_type": "code",
      "metadata": {
        "colab": {
          "base_uri": "https://localhost:8080/"
        },
        "id": "UIdn045JzPaD",
        "outputId": "2508d284-02dd-4db4-fd47-b16597fac11b"
      },
      "source": [
        "# Observando os valores únicos\n",
        "dfclean.nunique().sort_values(ascending=True)"
      ],
      "execution_count": 227,
      "outputs": [
        {
          "output_type": "execute_result",
          "data": {
            "text/plain": [
              "target_default                                         2\n",
              "external_data_provider_credit_checks_last_year         2\n",
              "last_borrowed_in_months                                2\n",
              "external_data_provider_credit_checks_last_month        4\n",
              "n_defaulted_loans                                      5\n",
              "real_state                                             5\n",
              "n_bankruptcies                                         6\n",
              "score_1                                                7\n",
              "score_2                                               35\n",
              "n_issues                                              44\n",
              "n_accounts                                            44\n",
              "state                                                 50\n",
              "external_data_provider_email_seen_before              61\n",
              "risk_rate                                             81\n",
              "score_3                                               87\n",
              "ok_since                                             100\n",
              "application_time_in_funnel                           501\n",
              "external_data_provider_fraud_score                  1001\n",
              "last_amount_borrowed                               13480\n",
              "credit_limit                                       19336\n",
              "reported_income                                    37367\n",
              "income                                             38849\n",
              "score_6                                            41741\n",
              "score_5                                            41741\n",
              "score_4                                            41741\n",
              "dtype: int64"
            ]
          },
          "metadata": {
            "tags": []
          },
          "execution_count": 227
        }
      ]
    },
    {
      "cell_type": "markdown",
      "metadata": {
        "id": "HMIYDZOKRghI"
      },
      "source": [
        "Temos muitos valores ausentes nas variáveis `last_amount_borrowed`, `last_borrowed_in_months` e `n_issues`, portanto vamos substituir os valores NaN por 0"
      ]
    },
    {
      "cell_type": "code",
      "metadata": {
        "id": "8GTExUKGxv1E"
      },
      "source": [
        "# Substituição de valores ausentes\n",
        "dfclean.last_amount_borrowed.fillna(value=0, inplace=True)\n",
        "dfclean.last_borrowed_in_months.fillna(value=0, inplace=True)\n",
        "dfclean.n_issues.fillna(value=0, inplace=True)"
      ],
      "execution_count": 229,
      "outputs": []
    },
    {
      "cell_type": "markdown",
      "metadata": {
        "id": "a8Q1P90CS_zg"
      },
      "source": [
        "Agora vamos usar o comando `SimpleImputer` do Scikit Learn, que facilita a substituição de valores ausentes, por algum valor que você deseja no seu dataset.\n",
        "\n",
        "Primeiramente dividiremos as variáveis entre numéricas e categóricas para conseguirmos tratá-las.\n",
        "\n",
        "Para as variáveis numéricas, substituiremos os valores ausentes pela mediana da variável.\n",
        "\n",
        "Já para as variáveis categóricas, substuiremos os valores ausentes pelo valor mais frequente da variável."
      ]
    },
    {
      "cell_type": "code",
      "metadata": {
        "id": "ShW5bo9NzfWZ"
      },
      "source": [
        "# Dividindo entre variáveis categóricas e numéricas.\n",
        "from sklearn.impute import SimpleImputer\n",
        "\n",
        "numericas = dfclean.select_dtypes(exclude='object').columns\n",
        "categoricas = dfclean.select_dtypes(include='object').columns\n",
        "\n",
        "# Variáveis numéricas.\n",
        "imputer = SimpleImputer(missing_values=np.nan, strategy='median')\n",
        "imputer = imputer.fit(dfclean.loc[:,numericas])\n",
        "dfclean.loc[:,numericas]= imputer.transform(dfclean.loc[:,numericas])\n",
        "\n",
        "# Variáveis categóricas.\n",
        "imputer = SimpleImputer(missing_values=np.nan, strategy='most_frequent')\n",
        "imputer = imputer.fit(dfclean.loc[:,categoricas])\n",
        "dfclean.loc[:,categoricas] = imputer.transform(dfclean.loc[:,categoricas])"
      ],
      "execution_count": 230,
      "outputs": []
    },
    {
      "cell_type": "markdown",
      "metadata": {
        "id": "bvpfSHh-VEv_"
      },
      "source": [
        "Agora verifiquemos se as nossas mudanças puderam ser aplicadas para todas as variáveis."
      ]
    },
    {
      "cell_type": "code",
      "metadata": {
        "colab": {
          "base_uri": "https://localhost:8080/"
        },
        "id": "duFf6FnJClV9",
        "outputId": "3ee3f7e6-04b6-48a4-abe2-7db9c0732d60"
      },
      "source": [
        "# verificar a quantidade de dados nulos\n",
        "dfclean.isnull().sum()"
      ],
      "execution_count": 231,
      "outputs": [
        {
          "output_type": "execute_result",
          "data": {
            "text/plain": [
              "target_default                                     0\n",
              "score_1                                            0\n",
              "score_2                                            0\n",
              "score_3                                            0\n",
              "score_4                                            0\n",
              "score_5                                            0\n",
              "score_6                                            0\n",
              "risk_rate                                          0\n",
              "last_amount_borrowed                               0\n",
              "last_borrowed_in_months                            0\n",
              "credit_limit                                       0\n",
              "income                                             0\n",
              "state                                              0\n",
              "real_state                                         0\n",
              "ok_since                                           0\n",
              "n_bankruptcies                                     0\n",
              "n_defaulted_loans                                  0\n",
              "n_accounts                                         0\n",
              "n_issues                                           0\n",
              "application_time_in_funnel                         0\n",
              "external_data_provider_credit_checks_last_month    0\n",
              "external_data_provider_credit_checks_last_year     0\n",
              "external_data_provider_email_seen_before           0\n",
              "external_data_provider_fraud_score                 0\n",
              "reported_income                                    0\n",
              "dtype: int64"
            ]
          },
          "metadata": {
            "tags": []
          },
          "execution_count": 231
        }
      ]
    },
    {
      "cell_type": "code",
      "metadata": {
        "colab": {
          "base_uri": "https://localhost:8080/",
          "height": 162
        },
        "id": "yAlUxMWjD8RZ",
        "outputId": "a8b9fd2c-d60e-46d6-a84a-81809dcab0d5"
      },
      "source": [
        "dfclean.head(3)"
      ],
      "execution_count": 232,
      "outputs": [
        {
          "output_type": "execute_result",
          "data": {
            "text/html": [
              "<div>\n",
              "<style scoped>\n",
              "    .dataframe tbody tr th:only-of-type {\n",
              "        vertical-align: middle;\n",
              "    }\n",
              "\n",
              "    .dataframe tbody tr th {\n",
              "        vertical-align: top;\n",
              "    }\n",
              "\n",
              "    .dataframe thead th {\n",
              "        text-align: right;\n",
              "    }\n",
              "</style>\n",
              "<table border=\"1\" class=\"dataframe\">\n",
              "  <thead>\n",
              "    <tr style=\"text-align: right;\">\n",
              "      <th></th>\n",
              "      <th>target_default</th>\n",
              "      <th>score_1</th>\n",
              "      <th>score_2</th>\n",
              "      <th>score_3</th>\n",
              "      <th>score_4</th>\n",
              "      <th>score_5</th>\n",
              "      <th>score_6</th>\n",
              "      <th>risk_rate</th>\n",
              "      <th>last_amount_borrowed</th>\n",
              "      <th>last_borrowed_in_months</th>\n",
              "      <th>credit_limit</th>\n",
              "      <th>income</th>\n",
              "      <th>state</th>\n",
              "      <th>real_state</th>\n",
              "      <th>ok_since</th>\n",
              "      <th>n_bankruptcies</th>\n",
              "      <th>n_defaulted_loans</th>\n",
              "      <th>n_accounts</th>\n",
              "      <th>n_issues</th>\n",
              "      <th>application_time_in_funnel</th>\n",
              "      <th>external_data_provider_credit_checks_last_month</th>\n",
              "      <th>external_data_provider_credit_checks_last_year</th>\n",
              "      <th>external_data_provider_email_seen_before</th>\n",
              "      <th>external_data_provider_fraud_score</th>\n",
              "      <th>reported_income</th>\n",
              "    </tr>\n",
              "  </thead>\n",
              "  <tbody>\n",
              "    <tr>\n",
              "      <th>0</th>\n",
              "      <td>False</td>\n",
              "      <td>1Rk8w4Ucd5yR3KcqZzLdow==</td>\n",
              "      <td>IOVu8au3ISbo6+zmfnYwMg==</td>\n",
              "      <td>350.0</td>\n",
              "      <td>101.800832</td>\n",
              "      <td>0.259555</td>\n",
              "      <td>108.427273</td>\n",
              "      <td>0.40</td>\n",
              "      <td>25033.92</td>\n",
              "      <td>36.0</td>\n",
              "      <td>0.0</td>\n",
              "      <td>65014.12</td>\n",
              "      <td>sjJbkqJS7cXalHLBFA+EOQ==</td>\n",
              "      <td>N5/CE7lSkAfB04hVFFwllw==</td>\n",
              "      <td>32.0</td>\n",
              "      <td>0.0</td>\n",
              "      <td>0.0</td>\n",
              "      <td>18.0</td>\n",
              "      <td>18.0</td>\n",
              "      <td>444.0</td>\n",
              "      <td>2.0</td>\n",
              "      <td>0.0</td>\n",
              "      <td>51.0</td>\n",
              "      <td>645.0</td>\n",
              "      <td>57849.0</td>\n",
              "    </tr>\n",
              "    <tr>\n",
              "      <th>1</th>\n",
              "      <td>False</td>\n",
              "      <td>DGCQep2AE5QRkNCshIAlFQ==</td>\n",
              "      <td>SaamrHMo23l/3TwXOWgVzw==</td>\n",
              "      <td>370.0</td>\n",
              "      <td>97.062615</td>\n",
              "      <td>0.942655</td>\n",
              "      <td>92.002546</td>\n",
              "      <td>0.24</td>\n",
              "      <td>0.00</td>\n",
              "      <td>0.0</td>\n",
              "      <td>39726.0</td>\n",
              "      <td>100018.91</td>\n",
              "      <td>xsd3ZdsI3356I3xMxZeiqQ==</td>\n",
              "      <td>N5/CE7lSkAfB04hVFFwllw==</td>\n",
              "      <td>50.0</td>\n",
              "      <td>0.0</td>\n",
              "      <td>0.0</td>\n",
              "      <td>14.0</td>\n",
              "      <td>14.0</td>\n",
              "      <td>346.0</td>\n",
              "      <td>1.0</td>\n",
              "      <td>0.0</td>\n",
              "      <td>17.0</td>\n",
              "      <td>243.0</td>\n",
              "      <td>4902.0</td>\n",
              "    </tr>\n",
              "    <tr>\n",
              "      <th>2</th>\n",
              "      <td>True</td>\n",
              "      <td>DGCQep2AE5QRkNCshIAlFQ==</td>\n",
              "      <td>Fv28Bz0YRTVAT5kl1bAV6g==</td>\n",
              "      <td>360.0</td>\n",
              "      <td>100.027073</td>\n",
              "      <td>0.351918</td>\n",
              "      <td>112.892453</td>\n",
              "      <td>0.29</td>\n",
              "      <td>7207.92</td>\n",
              "      <td>36.0</td>\n",
              "      <td>25213.0</td>\n",
              "      <td>65023.65</td>\n",
              "      <td>Ygq6MsM98oC8yceExr69Ig==</td>\n",
              "      <td>n+xK9CfX0bCn77lClTWviw==</td>\n",
              "      <td>32.0</td>\n",
              "      <td>0.0</td>\n",
              "      <td>0.0</td>\n",
              "      <td>10.0</td>\n",
              "      <td>0.0</td>\n",
              "      <td>6.0</td>\n",
              "      <td>2.0</td>\n",
              "      <td>1.0</td>\n",
              "      <td>9.0</td>\n",
              "      <td>65.0</td>\n",
              "      <td>163679.0</td>\n",
              "    </tr>\n",
              "  </tbody>\n",
              "</table>\n",
              "</div>"
            ],
            "text/plain": [
              "   target_default  ... reported_income\n",
              "0           False  ...         57849.0\n",
              "1           False  ...          4902.0\n",
              "2            True  ...        163679.0\n",
              "\n",
              "[3 rows x 25 columns]"
            ]
          },
          "metadata": {
            "tags": []
          },
          "execution_count": 232
        }
      ]
    },
    {
      "cell_type": "markdown",
      "metadata": {
        "id": "tZeUEQktVTs1"
      },
      "source": [
        "Agora que já vimos que as substituições funcionaram, vamos preparar os dados."
      ]
    },
    {
      "cell_type": "markdown",
      "metadata": {
        "id": "mZ6m8Pr6MQq8"
      },
      "source": [
        "# Preparação dos dados\n",
        "Antes de partir para a preparação, vamos instalar os pacotes necessários"
      ]
    },
    {
      "cell_type": "code",
      "metadata": {
        "id": "oKM8-ey7MVEe"
      },
      "source": [
        "# Importando Bibliotecas necessárias\n",
        "!pip install scikit-plot -q\n",
        "import scikitplot as skplt\n",
        "\n",
        "from sklearn.model_selection import train_test_split\n",
        "from sklearn.preprocessing import StandardScaler, LabelEncoder\n",
        "from sklearn.linear_model import LogisticRegression\n",
        "from sklearn.metrics import classification_report\n",
        "from sklearn.metrics import roc_auc_score, roc_curve, accuracy_score\n",
        "\n",
        "from imblearn.under_sampling import RandomUnderSampler"
      ],
      "execution_count": 233,
      "outputs": []
    },
    {
      "cell_type": "markdown",
      "metadata": {
        "id": "dX0ihmwzOMwS"
      },
      "source": [
        "Primeiramente, vamos padronizar os dados numéricos, para melhorar a qualidade do modelo."
      ]
    },
    {
      "cell_type": "code",
      "metadata": {
        "id": "510qk4_oNm9u"
      },
      "source": [
        "# Criando um dataset para backup\n",
        "scaled_df = dfclean.copy()"
      ],
      "execution_count": 234,
      "outputs": []
    },
    {
      "cell_type": "code",
      "metadata": {
        "id": "YPu8jqjSOQyQ"
      },
      "source": [
        "# Padronizando as colunas numericas\n",
        "\n",
        "numericas = scaled_df.drop('target_default',\n",
        "                           axis=1).select_dtypes(exclude='object').columns\n",
        "\n",
        "scaled_df[numericas] = StandardScaler().fit_transform(scaled_df[numericas].values)"
      ],
      "execution_count": 235,
      "outputs": []
    },
    {
      "cell_type": "markdown",
      "metadata": {
        "id": "DQjvc2EZPA2K"
      },
      "source": [
        "Agora para as variáveis categóricas, vamos utilizar a função `LabelEnconder`, que substitui as variáveis categóricas por números."
      ]
    },
    {
      "cell_type": "code",
      "metadata": {
        "id": "q-9gel2aPnVX"
      },
      "source": [
        "# Criando uma cópia do df anterior\n",
        "encoded_df = scaled_df.copy()"
      ],
      "execution_count": 236,
      "outputs": []
    },
    {
      "cell_type": "code",
      "metadata": {
        "id": "4kjS7fWlP7TL"
      },
      "source": [
        "# Extrair as colunas categóricas\n",
        "categoricas = encoded_df.select_dtypes('object').columns\n",
        "\n",
        "# Usando o LabelEncoder\n",
        "for col in categoricas:\n",
        "  encoded_df[col+'_encoded'] = LabelEncoder().fit_transform(encoded_df[col])\n",
        "  encoded_df.drop(col, axis=1, inplace=True)"
      ],
      "execution_count": 237,
      "outputs": []
    },
    {
      "cell_type": "code",
      "metadata": {
        "colab": {
          "base_uri": "https://localhost:8080/"
        },
        "id": "SuYH1TWgQnfX",
        "outputId": "fa54cd1a-17e2-48d2-c00c-d7f4049537e6"
      },
      "source": [
        "print(encoded_df)"
      ],
      "execution_count": 238,
      "outputs": [
        {
          "output_type": "stream",
          "text": [
            "       target_default   score_3  ...  state_encoded  real_state_encoded\n",
            "0               False  0.032154  ...             44                   1\n",
            "1               False  0.213805  ...             47                   1\n",
            "2                True  0.122980  ...             32                   3\n",
            "3               False  1.485366  ...             23                   3\n",
            "4               False  1.394540  ...             47                   3\n",
            "...               ...       ...  ...            ...                 ...\n",
            "44995           False -0.603626  ...             46                   1\n",
            "44996           False  0.213805  ...             36                   1\n",
            "44997           False -0.603626  ...             47                   4\n",
            "44998            True -0.966929  ...             47                   1\n",
            "44999           False  1.667017  ...             16                   3\n",
            "\n",
            "[41741 rows x 25 columns]\n"
          ],
          "name": "stdout"
        }
      ]
    },
    {
      "cell_type": "markdown",
      "metadata": {
        "id": "njJAm493Xv-N"
      },
      "source": [
        "Com os dados tratados, podemos partir para os preparativos definitivos por modelo."
      ]
    },
    {
      "cell_type": "markdown",
      "metadata": {
        "id": "a6O9LvL-SMSQ"
      },
      "source": [
        "Vamos definir o X e Y inicial"
      ]
    },
    {
      "cell_type": "code",
      "metadata": {
        "id": "4Ot4WUi1TwRw"
      },
      "source": [
        "# separando variáveis em X e y\n",
        "X = encoded_df.drop('target_default', axis=1)\n",
        "y = encoded_df['target_default']"
      ],
      "execution_count": 239,
      "outputs": []
    },
    {
      "cell_type": "markdown",
      "metadata": {
        "id": "WE2JHcfbE9Rt"
      },
      "source": [
        "Primeiro vamos balancear os dados de treino, pois já vimos anteriormente que estão bem desbalanceados."
      ]
    },
    {
      "cell_type": "code",
      "metadata": {
        "colab": {
          "base_uri": "https://localhost:8080/",
          "height": 421
        },
        "id": "4zMxtZbWE7E_",
        "outputId": "3c0cdabd-eb28-42bb-d031-39e48004c1e2"
      },
      "source": [
        "# # Balanceando os dados\n",
        "rus = RandomUnderSampler()\n",
        "X, y = rus.fit_sample(X, y)\n",
        "\n",
        "# Ver o resultado do balanceamento\n",
        "print(pd.Series(y).value_counts())\n",
        "\n",
        "# Plotando o balanceamento\n",
        "sns.countplot(y)"
      ],
      "execution_count": 240,
      "outputs": [
        {
          "output_type": "stream",
          "text": [
            "True     6661\n",
            "False    6661\n",
            "dtype: int64\n"
          ],
          "name": "stdout"
        },
        {
          "output_type": "stream",
          "text": [
            "/usr/local/lib/python3.7/dist-packages/sklearn/utils/deprecation.py:87: FutureWarning: Function safe_indexing is deprecated; safe_indexing is deprecated in version 0.22 and will be removed in version 0.24.\n",
            "  warnings.warn(msg, category=FutureWarning)\n",
            "/usr/local/lib/python3.7/dist-packages/seaborn/_decorators.py:43: FutureWarning: Pass the following variable as a keyword arg: x. From version 0.12, the only valid positional argument will be `data`, and passing other arguments without an explicit keyword will result in an error or misinterpretation.\n",
            "  FutureWarning\n"
          ],
          "name": "stderr"
        },
        {
          "output_type": "execute_result",
          "data": {
            "text/plain": [
              "<matplotlib.axes._subplots.AxesSubplot at 0x7f1a90797690>"
            ]
          },
          "metadata": {
            "tags": []
          },
          "execution_count": 240
        },
        {
          "output_type": "display_data",
          "data": {
            "image/png": "[encoded data removed]",
            "text/plain": [
              "<Figure size 432x288 with 1 Axes>"
            ]
          },
          "metadata": {
            "tags": [],
            "needs_background": "light"
          }
        }
      ]
    },
    {
      "cell_type": "markdown",
      "metadata": {
        "id": "p7HNsvBHFXd_"
      },
      "source": [
        "Agora vamos dividir os dados em treino e teste"
      ]
    },
    {
      "cell_type": "code",
      "metadata": {
        "id": "94-LV21PUWhe"
      },
      "source": [
        "# Dividindo em treino e teste\n",
        "X_train, X_test, y_train, y_test = train_test_split(X,y, test_size = 0.3)"
      ],
      "execution_count": 241,
      "outputs": []
    },
    {
      "cell_type": "markdown",
      "metadata": {
        "id": "CqOW1RHpVlnQ"
      },
      "source": [
        "# Construindo o Modelo\n",
        "Antes de construir o modelo, vamos importar os pacotes necessários."
      ]
    },
    {
      "cell_type": "code",
      "metadata": {
        "id": "UKqFkmwOwNpP"
      },
      "source": [
        "from sklearn.ensemble import RandomForestClassifier\n",
        "from sklearn.pipeline import make_pipeline\n",
        "from sklearn.model_selection import cross_val_score\n",
        "from sklearn.tree import DecisionTreeClassifier\n",
        "from sklearn.linear_model import SGDClassifier\n",
        "from sklearn.svm import SVC\n",
        "from xgboost import XGBClassifier\n",
        "from lightgbm import LGBMClassifier\n",
        "from sklearn.model_selection import StratifiedKFold\n",
        "from sklearn.model_selection import GridSearchCV"
      ],
      "execution_count": 242,
      "outputs": []
    },
    {
      "cell_type": "markdown",
      "metadata": {
        "id": "Jbznl1o6Yg0j"
      },
      "source": [
        "Relembrando o nosso problema de negócios, estamos trabalhando informações que terão um fim bancário, com objetivo de prever quais clientes estão mais propensos à serem inadimplentes. Logo, é interessante para nós que tenhamos um número de falsos negativos baixo, pois para o nosso negócio é possível afirmar que é melhor negar mais crédito a alguém que pagaria (Um falso positivo), do que aprovar o crédito a um inadimplente (Falso negativo). \n",
        "\n",
        "A métrica que nos atende é o recall, que tem a seguinte fórmula.\n",
        "\n",
        "Recall = TruePositives / (TruePositives + FalseNegatives\n",
        "\n",
        "Então vamos adotá-la."
      ]
    },
    {
      "cell_type": "code",
      "metadata": {
        "id": "lBw2PbI6VnzD"
      },
      "source": [
        "# Avaliação da Baseline, com métrica recall\n",
        "def val_model(X,y,clf, quite= False):\n",
        "  \n",
        "  X = np.array(X)\n",
        "  y = np.array(y)\n",
        "\n",
        "  pipeline = make_pipeline(StandardScaler(), clf)\n",
        "  scores = cross_val_score(pipeline, X, y, scoring = \"recall\")\n",
        "  if quite == False:\n",
        "    print(\"Recall: {:.4f} (+/- {:.2f})\".format(scores.mean(), scores.std()))\n",
        "\n",
        "  return scores.mean()"
      ],
      "execution_count": 243,
      "outputs": []
    },
    {
      "cell_type": "code",
      "metadata": {
        "colab": {
          "base_uri": "https://localhost:8080/"
        },
        "id": "qsAf9EmAOQ7n",
        "outputId": "7f252598-e553-4319-903b-cd8ba73722a7"
      },
      "source": [
        "# Criar baseline e ver desempenho\n",
        "rfcl = RandomForestClassifier()\n",
        "\n",
        "score_baseline = val_model(X_train, y_train, rfcl)"
      ],
      "execution_count": 244,
      "outputs": [
        {
          "output_type": "stream",
          "text": [
            "Recall: 0.6001 (+/- 0.01)\n"
          ],
          "name": "stdout"
        }
      ]
    },
    {
      "cell_type": "markdown",
      "metadata": {
        "id": "MDmh6RTCyuJp"
      },
      "source": [
        "Com valor baixo de Recall, vamos tentar melhorar, testando outros classificadores.\n",
        "\n",
        "* Random Forest Classifier (Baseline)\n",
        "* Decision Tree Classifier\n",
        "* SGD Classifier\n",
        "* SVC\n",
        "* Logistic Regression\n",
        "* XGB Classifier\n",
        "* LGBM Classifier\n"
      ]
    },
    {
      "cell_type": "code",
      "metadata": {
        "colab": {
          "base_uri": "https://localhost:8080/",
          "height": 266
        },
        "id": "b7sCJPGh0rkh",
        "outputId": "197fc790-d255-416c-e6aa-c960655dc3b5"
      },
      "source": [
        "# Modelos\n",
        "rfcl = RandomForestClassifier()\n",
        "dt = DecisionTreeClassifier()\n",
        "sgdc = SGDClassifier()\n",
        "svc = SVC()\n",
        "lr = LogisticRegression()\n",
        "xgb = XGBClassifier()\n",
        "lgbm = LGBMClassifier()\n",
        "\n",
        "model = []\n",
        "recall = []\n",
        "\n",
        "# Avaliar o desempenho\n",
        "for clf in (rfcl, dt, sgdc, svc, lr, xgb, lgbm):\n",
        "  model.append(clf.__class__.__name__)\n",
        "  recall.append(val_model(X_train, y_train, clf, quite=True))\n",
        "\n",
        "pd.DataFrame(data=recall, index=model, columns=['recall'])"
      ],
      "execution_count": 245,
      "outputs": [
        {
          "output_type": "execute_result",
          "data": {
            "text/html": [
              "<div>\n",
              "<style scoped>\n",
              "    .dataframe tbody tr th:only-of-type {\n",
              "        vertical-align: middle;\n",
              "    }\n",
              "\n",
              "    .dataframe tbody tr th {\n",
              "        vertical-align: top;\n",
              "    }\n",
              "\n",
              "    .dataframe thead th {\n",
              "        text-align: right;\n",
              "    }\n",
              "</style>\n",
              "<table border=\"1\" class=\"dataframe\">\n",
              "  <thead>\n",
              "    <tr style=\"text-align: right;\">\n",
              "      <th></th>\n",
              "      <th>recall</th>\n",
              "    </tr>\n",
              "  </thead>\n",
              "  <tbody>\n",
              "    <tr>\n",
              "      <th>RandomForestClassifier</th>\n",
              "      <td>0.597091</td>\n",
              "    </tr>\n",
              "    <tr>\n",
              "      <th>DecisionTreeClassifier</th>\n",
              "      <td>0.545927</td>\n",
              "    </tr>\n",
              "    <tr>\n",
              "      <th>SGDClassifier</th>\n",
              "      <td>0.577821</td>\n",
              "    </tr>\n",
              "    <tr>\n",
              "      <th>SVC</th>\n",
              "      <td>0.577822</td>\n",
              "    </tr>\n",
              "    <tr>\n",
              "      <th>LogisticRegression</th>\n",
              "      <td>0.589166</td>\n",
              "    </tr>\n",
              "    <tr>\n",
              "      <th>XGBClassifier</th>\n",
              "      <td>0.612501</td>\n",
              "    </tr>\n",
              "    <tr>\n",
              "      <th>LGBMClassifier</th>\n",
              "      <td>0.622139</td>\n",
              "    </tr>\n",
              "  </tbody>\n",
              "</table>\n",
              "</div>"
            ],
            "text/plain": [
              "                          recall\n",
              "RandomForestClassifier  0.597091\n",
              "DecisionTreeClassifier  0.545927\n",
              "SGDClassifier           0.577821\n",
              "SVC                     0.577822\n",
              "LogisticRegression      0.589166\n",
              "XGBClassifier           0.612501\n",
              "LGBMClassifier          0.622139"
            ]
          },
          "metadata": {
            "tags": []
          },
          "execution_count": 245
        }
      ]
    },
    {
      "cell_type": "markdown",
      "metadata": {
        "id": "VN_BDPX93tYM"
      },
      "source": [
        "Com as métricas sendo comparadas, o `XGBClassifier`, foi o que se saiu melhor, então vamos buscar melhorar este. O comando `get_params` vai nos mostrar as métricas inicias adotadas para o XGBClassifier"
      ]
    },
    {
      "cell_type": "code",
      "metadata": {
        "colab": {
          "base_uri": "https://localhost:8080/"
        },
        "id": "xjxrq9V25SbK",
        "outputId": "b1e544d3-74e0-4cb7-ad13-b143a93be1ac"
      },
      "source": [
        "# Observando os parâmetros do XGBC\n",
        "xgb.get_params()"
      ],
      "execution_count": 246,
      "outputs": [
        {
          "output_type": "execute_result",
          "data": {
            "text/plain": [
              "{'base_score': 0.5,\n",
              " 'booster': 'gbtree',\n",
              " 'colsample_bylevel': 1,\n",
              " 'colsample_bynode': 1,\n",
              " 'colsample_bytree': 1,\n",
              " 'gamma': 0,\n",
              " 'learning_rate': 0.1,\n",
              " 'max_delta_step': 0,\n",
              " 'max_depth': 3,\n",
              " 'min_child_weight': 1,\n",
              " 'missing': None,\n",
              " 'n_estimators': 100,\n",
              " 'n_jobs': 1,\n",
              " 'nthread': None,\n",
              " 'objective': 'binary:logistic',\n",
              " 'random_state': 0,\n",
              " 'reg_alpha': 0,\n",
              " 'reg_lambda': 1,\n",
              " 'scale_pos_weight': 1,\n",
              " 'seed': None,\n",
              " 'silent': None,\n",
              " 'subsample': 1,\n",
              " 'verbosity': 1}"
            ]
          },
          "metadata": {
            "tags": []
          },
          "execution_count": 246
        }
      ]
    },
    {
      "cell_type": "markdown",
      "metadata": {
        "id": "ZCT0q6mya8Mg"
      },
      "source": [
        "Vamos fazer algumas pequenas mudanças para buscar melhorar o desempenho."
      ]
    },
    {
      "cell_type": "code",
      "metadata": {
        "colab": {
          "base_uri": "https://localhost:8080/"
        },
        "id": "HIAzReohCCg6",
        "outputId": "faeb2178-92e1-4d0c-e984-b893b4f6246a"
      },
      "source": [
        "# instanciando o modelo e treinando o mesmo\n",
        "ml_model = XGBClassifier(learning_rate=0.1, max_depth=1, gamma=5,\n",
        "                         n_estimators= 1000, min_child_weight=1, \n",
        "                         subsample = 0.5, colsample_bytree = 0.1,\n",
        "                         random_state=42)\n",
        "\n",
        "ml_model.fit(X_train, y_train)"
      ],
      "execution_count": 247,
      "outputs": [
        {
          "output_type": "execute_result",
          "data": {
            "text/plain": [
              "XGBClassifier(base_score=0.5, booster='gbtree', colsample_bylevel=1,\n",
              "              colsample_bynode=1, colsample_bytree=0.1, gamma=5,\n",
              "              learning_rate=0.1, max_delta_step=0, max_depth=1,\n",
              "              min_child_weight=1, missing=None, n_estimators=1000, n_jobs=1,\n",
              "              nthread=None, objective='binary:logistic', random_state=42,\n",
              "              reg_alpha=0, reg_lambda=1, scale_pos_weight=1, seed=None,\n",
              "              silent=None, subsample=0.5, verbosity=1)"
            ]
          },
          "metadata": {
            "tags": []
          },
          "execution_count": 247
        }
      ]
    },
    {
      "cell_type": "code",
      "metadata": {
        "colab": {
          "base_uri": "https://localhost:8080/"
        },
        "id": "Fschb4eYCLr4",
        "outputId": "3879f9c6-a88d-4e57-f75c-e0340ac97a2e"
      },
      "source": [
        "y_pred = ml_model.predict(X_test)\n",
        "\n",
        "# imprimir a acurácia do modelo\n",
        "print(\"Recall: {:.4f}\\n\".format(accuracy_score(y_test, y_pred)))"
      ],
      "execution_count": 248,
      "outputs": [
        {
          "output_type": "stream",
          "text": [
            "Recall: 0.6202\n",
            "\n"
          ],
          "name": "stdout"
        }
      ]
    },
    {
      "cell_type": "markdown",
      "metadata": {
        "id": "oZMNOsiMbBqo"
      },
      "source": [
        "# Conclusão\n",
        "Como vimos, o nosso valor de Recall foi bem baixo, mesmo o XGBClassifier, o modelo conseguiu melhorar apenas em 0.2 pontos percentuais no desempenho original do modelo. Portanto, fica a recomendação a busca de novos métodos para este dataset, que está com métricas do modelo bastante insatisfatórias."
      ]
    }
  ]
}